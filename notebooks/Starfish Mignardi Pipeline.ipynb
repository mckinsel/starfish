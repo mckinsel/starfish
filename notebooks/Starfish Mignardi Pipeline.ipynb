{
 "cells": [
  {
   "cell_type": "markdown",
   "metadata": {},
   "source": [
    "# Starfish re-creation of an in-situ sequencing pipeline \n",
    "\n",
    "Here, we reproduce the results of a pipeline run on data collected using the gap filling and padlock probe litigation method described in [Ke, Mignardi, et. al, 2013](http://www.nature.com/nmeth/journal/v10/n9/full/nmeth.2563.html). These data represent 5 co-cultured mouse and human cells -- the main idea is to detect a single nucleotide polymorphism (SNP) in the Beta-Actin (ACTB) gene across species. The Python code below correctly re-produces the same results from the original cell profiler - matlab - imagej [pipeline](http://cellprofiler.org/examples/#InSitu) that is publicly accessible. "
   ]
  },
  {
   "cell_type": "code",
   "execution_count": null,
   "metadata": {},
   "outputs": [],
   "source": [
    "from __future__ import division\n",
    "import sys\n",
    "\n",
    "import pandas as pd\n",
    "import numpy as np\n",
    "from skimage import io\n",
    "from skimage.color import rgb2gray\n",
    "\n",
    "import matplotlib.pyplot as plt\n",
    "%matplotlib inline\n",
    "from showit import image, tile"
   ]
  },
  {
   "cell_type": "markdown",
   "metadata": {},
   "source": [
    "## Raw Data\n",
    "\n",
    "The raw data can be downloaded and formatted for analysis by running: ```python examples/get_iss_data.py ><raw data directory> <output directory> --d 1``` from the Starfish directory"
   ]
  },
  {
   "cell_type": "code",
   "execution_count": null,
   "metadata": {},
   "outputs": [],
   "source": [
    "from starfish.io import Stack\n",
    "\n",
    "# replace <output directory> with where you saved the formatted data to with the above script\n",
    "in_json = '<output directory>/org.json'\n",
    "\n",
    "s = Stack()\n",
    "s.read(in_json)\n",
    "\n",
    "tile(s.squeeze(),size=10);"
   ]
  },
  {
   "cell_type": "code",
   "execution_count": null,
   "metadata": {},
   "outputs": [],
   "source": [
    "image(s.aux_dict['dots'], size=10)"
   ]
  },
  {
   "cell_type": "markdown",
   "metadata": {},
   "source": [
    "## Register"
   ]
  },
  {
   "cell_type": "code",
   "execution_count": null,
   "metadata": {},
   "outputs": [],
   "source": [
    "from starfish.registration._fourier_shift import compute_shift, shift_im\n",
    "\n",
    "upsample = 1000\n",
    "\n",
    "mp = s.max_proj('ch')\n",
    "res = np.zeros(s.image.shape)\n",
    "\n",
    "for h in range(s.image.num_hybs):\n",
    "    # compute shift between maximum projection (across channels) and dots, for each hyb round\n",
    "    shift, error = compute_shift(mp[h,:,:], s.aux_dict['dots'], upsample)\n",
    "    print(\"For hyb: {}, Shift: {}, Error: {}\".format(h, shift, error))\n",
    "\n",
    "    for c in range(s.image.num_chs):\n",
    "        # apply shift to all channels and hyb rounds\n",
    "        res[h, c, :] = shift_im(s.image.numpy_array[h, c, :], shift)\n",
    "\n",
    "s.set_stack(res)\n",
    "tile(s.squeeze(), size=10);"
   ]
  },
  {
   "cell_type": "markdown",
   "metadata": {},
   "source": [
    "## Filter"
   ]
  },
  {
   "cell_type": "code",
   "execution_count": null,
   "metadata": {},
   "outputs": [],
   "source": [
    "from starfish.filters import white_top_hat\n",
    "\n",
    "disk_dize = 10\n",
    "\n",
    "# filter raw images, for all hybs and channels\n",
    "stack_filt = [white_top_hat(im, disk_dize) for im in s.squeeze()]\n",
    "stack_filt = s.un_squeeze(stack_filt)\n",
    "\n",
    "# filter dots\n",
    "dots_filt = white_top_hat(s.aux_dict['dots'], disk_dize)\n",
    "\n",
    "# create a 'stain' for segmentation\n",
    "stain = np.mean(s.max_proj('ch'), axis=0)\n",
    "stain = stain/stain.max()\n",
    "\n",
    "# update stack\n",
    "s.set_stack(stack_filt)\n",
    "s.set_aux('dots', dots_filt)\n",
    "s.set_aux('stain', stain)\n",
    "\n",
    "# visualize\n",
    "tile(s.squeeze(), bar=False, size=10);\n",
    "image(s.aux_dict['dots'])\n",
    "image(s.aux_dict['stain'])"
   ]
  },
  {
   "cell_type": "markdown",
   "metadata": {},
   "source": [
    "## Detect"
   ]
  },
  {
   "cell_type": "code",
   "execution_count": null,
   "metadata": {},
   "outputs": [],
   "source": [
    "from starfish.spots.gaussian import GaussianSpotDetector\n",
    "\n",
    "gsp = GaussianSpotDetector(s)\n",
    "min_sigma = 4\n",
    "max_sigma = 6\n",
    "num_sigma=20\n",
    "thresh=.01\n",
    "blobs='dots'\n",
    "measurement_type=\"max\"\n",
    "bit_map_flag=False\n",
    "\n",
    "spots_df_tidy = gsp.detect(min_sigma, max_sigma, num_sigma, thresh, blobs, measurement_type, bit_map_flag)\n",
    "gsp.show(figsize=(10,10))\n",
    "    \n",
    "spots_viz = gsp.spots_df_viz\n",
    "spots_df_tidy.head()"
   ]
  },
  {
   "cell_type": "code",
   "execution_count": null,
   "metadata": {},
   "outputs": [],
   "source": [
    "spots_viz.head()"
   ]
  },
  {
   "cell_type": "markdown",
   "metadata": {},
   "source": [
    "##  Segmentation"
   ]
  },
  {
   "cell_type": "code",
   "execution_count": null,
   "metadata": {},
   "outputs": [],
   "source": [
    "from starfish.filters import gaussian_low_pass\n",
    "from starfish.watershedsegmenter import WatershedSegmenter\n",
    "\n",
    "dapi_thresh = .16\n",
    "stain_thresh = .22\n",
    "size_lim = (10, 10000)\n",
    "disk_size_markers = None\n",
    "disk_size_mask = None\n",
    "min_dist = 57\n",
    "\n",
    "seg = WatershedSegmenter(s.aux_dict['dapi'], s.aux_dict['stain'])\n",
    "cells_labels = seg.segment(dapi_thresh, stain_thresh, size_lim, disk_size_markers, disk_size_mask, min_dist)\n",
    "seg.show()"
   ]
  },
  {
   "cell_type": "markdown",
   "metadata": {},
   "source": [
    "## Assignment"
   ]
  },
  {
   "cell_type": "code",
   "execution_count": null,
   "metadata": {},
   "outputs": [],
   "source": [
    "from starfish.assign import assign\n",
    "\n",
    "points = spots_viz.loc[:, ['x', 'y']].values\n",
    "ass = assign(cells_labels, points, use_hull=True)\n",
    "ass.groupby('cell_id',as_index=False).count().rename(columns={'spot_id':'num spots'})"
   ]
  },
  {
   "cell_type": "code",
   "execution_count": null,
   "metadata": {},
   "outputs": [],
   "source": [
    "ass.head()"
   ]
  },
  {
   "cell_type": "markdown",
   "metadata": {},
   "source": [
    "## Decode"
   ]
  },
  {
   "cell_type": "code",
   "execution_count": null,
   "metadata": {},
   "outputs": [],
   "source": [
    "from starfish.decoders.iss import IssDecoder\n",
    "\n",
    "decoder = IssDecoder(pd.DataFrame({'barcode': ['AAGC', 'AGGC'], 'gene': ['ACTB_human', 'ACTB_mouse']}), \n",
    "                     letters=['T', 'G', 'C', 'A'])\n",
    "dec = decoder.decode(spots_df_tidy)\n",
    "dec.qual.hist(bins=20)\n",
    "top_barcode = dec.barcode.value_counts()[0:10]\n",
    "top_barcode"
   ]
  },
  {
   "cell_type": "markdown",
   "metadata": {},
   "source": [
    "## Visualization"
   ]
  },
  {
   "cell_type": "code",
   "execution_count": null,
   "metadata": {},
   "outputs": [],
   "source": [
    "from starfish.stats import label_to_regions\n",
    "\n",
    "dec_filt = pd.merge(dec, spots_viz, on='spot_id',how='left')\n",
    "dec_filt = dec_filt[dec_filt.qual>.25]\n",
    "\n",
    "assert s.aux_dict['dapi'].shape == s.aux_dict['dots'].shape\n",
    "\n",
    "rgb = np.zeros(s.aux_dict['dapi'].shape + (3,))\n",
    "rgb[:,:,0] = s.aux_dict['dapi']\n",
    "rgb[:,:,1] = s.aux_dict['dots']\n",
    "do = rgb2gray(rgb)\n",
    "do = do/(do.max())\n",
    "\n",
    "image(do,size=10)\n",
    "plt.plot(dec_filt[dec_filt.barcode==top_barcode.index[0]].y, \n",
    "         dec_filt[dec_filt.barcode==top_barcode.index[0]].x, \n",
    "         'ob', \n",
    "         markerfacecolor='None')\n",
    "\n",
    "plt.plot(dec_filt[dec_filt.barcode==top_barcode.index[1]].y, dec_filt[dec_filt.barcode==top_barcode.index[1]].x, 'or', markerfacecolor='None')\n",
    "\n",
    "v = pd.merge(spots_viz, ass, on='spot_id')\n",
    "\n",
    "r = label_to_regions(cells_labels)\n",
    "im = r.mask(background=[0.9, 0.9, 0.9], dims=s.aux_dict['dots'].shape, stroke=None, cmap='rainbow')\n",
    "image(im,size=10)\n",
    "\n",
    "v_ass = v[~v.cell_id.isnull()]\n",
    "plt.plot(v_ass.y, v_ass.x, '.w')\n",
    "\n",
    "v_uass = v[v.cell_id.isnull()]\n",
    "plt.plot(v_uass.y, v_uass.x, 'xw')"
   ]
  },
  {
   "cell_type": "markdown",
   "metadata": {},
   "source": [
    "## Cell by gene expression table"
   ]
  },
  {
   "cell_type": "code",
   "execution_count": null,
   "metadata": {},
   "outputs": [],
   "source": [
    "res = pd.merge(dec, ass, on='spot_id', how='left')\n",
    "grp = res.groupby(['barcode', 'cell_id'],as_index=False).count()\n",
    "exp_tab = grp.pivot(index='cell_id', columns='barcode', values = 'spot_id').fillna(0)\n",
    "exp_tab"
   ]
  }
 ],
 "metadata": {
  "kernelspec": {
   "display_name": "Python 3",
   "language": "python",
   "name": "python3"
  },
  "language_info": {
   "codemirror_mode": {
    "name": "ipython",
    "version": 3
   },
   "file_extension": ".py",
   "mimetype": "text/x-python",
   "name": "python",
   "nbconvert_exporter": "python",
   "pygments_lexer": "ipython3",
   "version": "3.6.1"
  }
 },
 "nbformat": 4,
 "nbformat_minor": 1
}